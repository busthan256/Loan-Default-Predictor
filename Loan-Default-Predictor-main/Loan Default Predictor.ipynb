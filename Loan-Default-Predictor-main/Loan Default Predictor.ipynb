{
 "cells": [
  {
   "cell_type": "code",
   "execution_count": 1,
   "id": "6809a596",
   "metadata": {},
   "outputs": [],
   "source": [
    "#Loading all libraries\n",
    "import numpy as np\n",
    "import pandas as pd\n",
    "from sklearn.preprocessing import MinMaxScaler, StandardScaler\n",
    "from sklearn.model_selection import train_test_split\n",
    "from sklearn.metrics import accuracy_score, mean_absolute_error, mean_squared_error\n",
    "import seaborn as sns\n",
    "import matplotlib.pyplot as plt\n",
    "from sklearn import tree\n",
    "from sklearn.ensemble import RandomForestClassifier\n",
    "from sklearn.tree import DecisionTreeClassifier\n",
    "from sklearn import metrics\n",
    "from xgboost import XGBClassifier\n",
    "from sklearn.preprocessing import OneHotEncoder\n",
    "from sklearn.linear_model import LogisticRegression\n",
    "from sklearn.neighbors import KNeighborsClassifier\n",
    "from sklearn.svm import SVC"
   ]
  },
  {
   "cell_type": "code",
   "execution_count": 2,
   "id": "057a66fb",
   "metadata": {},
   "outputs": [
    {
     "data": {
      "text/html": [
       "<div>\n",
       "<style scoped>\n",
       "    .dataframe tbody tr th:only-of-type {\n",
       "        vertical-align: middle;\n",
       "    }\n",
       "\n",
       "    .dataframe tbody tr th {\n",
       "        vertical-align: top;\n",
       "    }\n",
       "\n",
       "    .dataframe thead th {\n",
       "        text-align: right;\n",
       "    }\n",
       "</style>\n",
       "<table border=\"1\" class=\"dataframe\">\n",
       "  <thead>\n",
       "    <tr style=\"text-align: right;\">\n",
       "      <th></th>\n",
       "      <th>id</th>\n",
       "      <th>grade</th>\n",
       "      <th>annual_inc</th>\n",
       "      <th>short_emp</th>\n",
       "      <th>emp_length_num</th>\n",
       "      <th>home_ownership</th>\n",
       "      <th>dti</th>\n",
       "      <th>purpose</th>\n",
       "      <th>term</th>\n",
       "      <th>last_delinq_none</th>\n",
       "      <th>last_major_derog_none</th>\n",
       "      <th>revol_util</th>\n",
       "      <th>total_rec_late_fee</th>\n",
       "      <th>od_ratio</th>\n",
       "      <th>bad_loan</th>\n",
       "    </tr>\n",
       "  </thead>\n",
       "  <tbody>\n",
       "    <tr>\n",
       "      <th>0</th>\n",
       "      <td>11454641</td>\n",
       "      <td>A</td>\n",
       "      <td>100000.0</td>\n",
       "      <td>1</td>\n",
       "      <td>1</td>\n",
       "      <td>RENT</td>\n",
       "      <td>26.27</td>\n",
       "      <td>credit_card</td>\n",
       "      <td>36 months</td>\n",
       "      <td>1</td>\n",
       "      <td>NaN</td>\n",
       "      <td>43.2</td>\n",
       "      <td>0.0</td>\n",
       "      <td>0.160624</td>\n",
       "      <td>0</td>\n",
       "    </tr>\n",
       "    <tr>\n",
       "      <th>1</th>\n",
       "      <td>9604874</td>\n",
       "      <td>A</td>\n",
       "      <td>83000.0</td>\n",
       "      <td>0</td>\n",
       "      <td>4</td>\n",
       "      <td>OWN</td>\n",
       "      <td>5.39</td>\n",
       "      <td>credit_card</td>\n",
       "      <td>36 months</td>\n",
       "      <td>0</td>\n",
       "      <td>NaN</td>\n",
       "      <td>21.5</td>\n",
       "      <td>0.0</td>\n",
       "      <td>0.810777</td>\n",
       "      <td>0</td>\n",
       "    </tr>\n",
       "    <tr>\n",
       "      <th>2</th>\n",
       "      <td>9684700</td>\n",
       "      <td>D</td>\n",
       "      <td>78000.0</td>\n",
       "      <td>0</td>\n",
       "      <td>11</td>\n",
       "      <td>MORTGAGE</td>\n",
       "      <td>18.45</td>\n",
       "      <td>debt_consolidation</td>\n",
       "      <td>60 months</td>\n",
       "      <td>1</td>\n",
       "      <td>NaN</td>\n",
       "      <td>46.3</td>\n",
       "      <td>0.0</td>\n",
       "      <td>0.035147</td>\n",
       "      <td>1</td>\n",
       "    </tr>\n",
       "    <tr>\n",
       "      <th>3</th>\n",
       "      <td>9695736</td>\n",
       "      <td>D</td>\n",
       "      <td>37536.0</td>\n",
       "      <td>0</td>\n",
       "      <td>6</td>\n",
       "      <td>MORTGAGE</td>\n",
       "      <td>12.28</td>\n",
       "      <td>medical</td>\n",
       "      <td>60 months</td>\n",
       "      <td>0</td>\n",
       "      <td>NaN</td>\n",
       "      <td>10.7</td>\n",
       "      <td>0.0</td>\n",
       "      <td>0.534887</td>\n",
       "      <td>1</td>\n",
       "    </tr>\n",
       "    <tr>\n",
       "      <th>4</th>\n",
       "      <td>9795013</td>\n",
       "      <td>D</td>\n",
       "      <td>65000.0</td>\n",
       "      <td>0</td>\n",
       "      <td>11</td>\n",
       "      <td>MORTGAGE</td>\n",
       "      <td>11.26</td>\n",
       "      <td>debt_consolidation</td>\n",
       "      <td>36 months</td>\n",
       "      <td>0</td>\n",
       "      <td>NaN</td>\n",
       "      <td>15.2</td>\n",
       "      <td>0.0</td>\n",
       "      <td>0.166500</td>\n",
       "      <td>0</td>\n",
       "    </tr>\n",
       "  </tbody>\n",
       "</table>\n",
       "</div>"
      ],
      "text/plain": [
       "         id grade  annual_inc  short_emp  emp_length_num home_ownership  \\\n",
       "0  11454641     A    100000.0          1               1           RENT   \n",
       "1   9604874     A     83000.0          0               4            OWN   \n",
       "2   9684700     D     78000.0          0              11       MORTGAGE   \n",
       "3   9695736     D     37536.0          0               6       MORTGAGE   \n",
       "4   9795013     D     65000.0          0              11       MORTGAGE   \n",
       "\n",
       "     dti             purpose        term  last_delinq_none  \\\n",
       "0  26.27         credit_card   36 months                 1   \n",
       "1   5.39         credit_card   36 months                 0   \n",
       "2  18.45  debt_consolidation   60 months                 1   \n",
       "3  12.28             medical   60 months                 0   \n",
       "4  11.26  debt_consolidation   36 months                 0   \n",
       "\n",
       "   last_major_derog_none  revol_util  total_rec_late_fee  od_ratio  bad_loan  \n",
       "0                    NaN        43.2                 0.0  0.160624         0  \n",
       "1                    NaN        21.5                 0.0  0.810777         0  \n",
       "2                    NaN        46.3                 0.0  0.035147         1  \n",
       "3                    NaN        10.7                 0.0  0.534887         1  \n",
       "4                    NaN        15.2                 0.0  0.166500         0  "
      ]
     },
     "execution_count": 2,
     "metadata": {},
     "output_type": "execute_result"
    }
   ],
   "source": [
    "# Load dataset\n",
    "df = pd.read_csv('lending_club_loan_dataset.csv')\n",
    "\n",
    "# size of the dataset\n",
    "df.shape\n",
    "\n",
    "df.head()"
   ]
  },
  {
   "cell_type": "code",
   "execution_count": 3,
   "id": "d1332e84",
   "metadata": {},
   "outputs": [
    {
     "data": {
      "text/plain": [
       "0    0.8\n",
       "1    0.2\n",
       "Name: bad_loan, dtype: float64"
      ]
     },
     "execution_count": 3,
     "metadata": {},
     "output_type": "execute_result"
    }
   ],
   "source": [
    "df['bad_loan'].value_counts(normalize = True)"
   ]
  },
  {
   "cell_type": "code",
   "execution_count": 4,
   "id": "c3bb1cc5",
   "metadata": {},
   "outputs": [
    {
     "data": {
      "text/plain": [
       "<AxesSubplot:xlabel='grade', ylabel='count'>"
      ]
     },
     "execution_count": 4,
     "metadata": {},
     "output_type": "execute_result"
    },
    {
     "data": {
      "image/png": "[encoded data removed]",
      "text/plain": [
       "<Figure size 864x432 with 1 Axes>"
      ]
     },
     "metadata": {
      "needs_background": "light"
     },
     "output_type": "display_data"
    }
   ],
   "source": [
    "plt.figure(figsize = (12,6))\n",
    "sns.countplot(x = 'grade', hue = 'bad_loan', data = df)"
   ]
  },
  {
   "cell_type": "code",
   "execution_count": 5,
   "id": "0df0b110",
   "metadata": {},
   "outputs": [],
   "source": [
    "# Impute NULL values in home ownership by mode\n",
    "df['home_ownership'] = df['home_ownership'].fillna(df['home_ownership'].mode()[0])\n",
    "\n",
    "# Impute NULL values in dti by mean\n",
    "df['dti'] = df['dti'].fillna(df['dti'].mean())\n",
    "\n",
    "# remove last_major_derog_none columns as it contains a lot of NULL values\n",
    "df.drop(['last_major_derog_none'], axis = 1, inplace = True)\n",
    "\n",
    "# remove inconsistencies in term feature\n",
    "df['term'] = df['term'].apply(lambda i : i.lower())"
   ]
  },
  {
   "cell_type": "code",
   "execution_count": 6,
   "id": "308e8231",
   "metadata": {},
   "outputs": [],
   "source": [
    "# one hot encoding\n",
    "cols_to_encode = ['grade', 'home_ownership', 'purpose', 'term']\n",
    "df = pd.get_dummies(data = df, columns = cols_to_encode, drop_first = True)\n",
    "\n",
    "# Standard Scaler\n",
    "standard_scaler = StandardScaler()\n",
    "feature_cols = ['annual_inc', 'emp_length_num', 'dti','revol_util', 'total_rec_late_fee', 'od_ratio']\n",
    "transformed_features = standard_scaler.fit_transform(df[feature_cols])\n",
    "\n",
    "df[feature_cols] = transformed_features\n",
    "\n",
    "# split data into train and test\n",
    "feature_cols  = df.columns.tolist()\n",
    "feature_cols = [i for i in feature_cols if i not in ['id', 'bad_loan']]\n",
    "x_train, x_test, y_train, y_test = train_test_split(df[feature_cols], df['bad_loan'], test_size = 0.2, random_state = 1234)\n"
   ]
  },
  {
   "cell_type": "code",
   "execution_count": 7,
   "id": "bc015330",
   "metadata": {},
   "outputs": [
    {
     "name": "stdout",
     "output_type": "stream",
     "text": [
      "              precision    recall  f1-score   support\n",
      "\n",
      "           0       0.88      0.63      0.73      3181\n",
      "           1       0.32      0.66      0.43       819\n",
      "\n",
      "    accuracy                           0.64      4000\n",
      "   macro avg       0.60      0.65      0.58      4000\n",
      "weighted avg       0.76      0.64      0.67      4000\n",
      "\n",
      "[[2003 1178]\n",
      " [ 275  544]]\n"
     ]
    }
   ],
   "source": [
    "logistic_regression_classifier = LogisticRegression(max_iter = 1000, solver = 'lbfgs', random_state = 1234, class_weight = 'balanced' )\n",
    "logistic_regression_classifier.fit(x_train, y_train)\n",
    "\n",
    "prediction_values_lr = logistic_regression_classifier.predict(x_test)\n",
    "print(metrics.classification_report(y_test, prediction_values_lr, digits = 2))\n",
    "print(metrics.confusion_matrix(y_test, prediction_values_lr))\n"
   ]
  },
  {
   "cell_type": "code",
   "execution_count": 8,
   "id": "c15c6e06",
   "metadata": {},
   "outputs": [
    {
     "name": "stdout",
     "output_type": "stream",
     "text": [
      "              precision    recall  f1-score   support\n",
      "\n",
      "           0       0.80      1.00      0.89      3181\n",
      "           1       0.72      0.04      0.07       819\n",
      "\n",
      "    accuracy                           0.80      4000\n",
      "   macro avg       0.76      0.52      0.48      4000\n",
      "weighted avg       0.79      0.80      0.72      4000\n",
      "\n",
      "[[3170   11]\n",
      " [ 790   29]]\n"
     ]
    }
   ],
   "source": [
    "knn_classifier = KNeighborsClassifier(n_neighbors = 100)\n",
    "knn_classifier.fit(x_train, y_train)\n",
    "\n",
    "prediction_values_knn = knn_classifier.predict(x_test)\n",
    "print(metrics.classification_report(y_test, prediction_values_knn, digits = 2))\n",
    "print(metrics.confusion_matrix(y_test, prediction_values_knn))"
   ]
  },
  {
   "cell_type": "code",
   "execution_count": 9,
   "id": "a764327e",
   "metadata": {},
   "outputs": [
    {
     "name": "stdout",
     "output_type": "stream",
     "text": [
      "[LibSVM]              precision    recall  f1-score   support\n",
      "\n",
      "           0       0.88      0.64      0.74      3181\n",
      "           1       0.32      0.66      0.43       819\n",
      "\n",
      "    accuracy                           0.64      4000\n",
      "   macro avg       0.60      0.65      0.59      4000\n",
      "weighted avg       0.76      0.64      0.68      4000\n",
      "\n",
      "[[2040 1141]\n",
      " [ 281  538]]\n"
     ]
    }
   ],
   "source": [
    "svm_classifier = SVC(random_state = 1234, class_weight = 'balanced', probability = True, verbose = True)\n",
    "svm_classifier.fit(x_train, y_train)\n",
    "\n",
    "prediction_values_svm = svm_classifier.predict(x_test)\n",
    "print(metrics.classification_report(y_test, prediction_values_svm, digits = 2))\n",
    "print(metrics.confusion_matrix(y_test, prediction_values_svm))"
   ]
  },
  {
   "cell_type": "code",
   "execution_count": 10,
   "id": "8c83fe41",
   "metadata": {},
   "outputs": [
    {
     "name": "stdout",
     "output_type": "stream",
     "text": [
      "              precision    recall  f1-score   support\n",
      "\n",
      "           0       0.80      1.00      0.89      3181\n",
      "           1       0.74      0.03      0.06       819\n",
      "\n",
      "    accuracy                           0.80      4000\n",
      "   macro avg       0.77      0.51      0.47      4000\n",
      "weighted avg       0.79      0.80      0.72      4000\n",
      "\n",
      "[[3172    9]\n",
      " [ 794   25]]\n"
     ]
    }
   ],
   "source": [
    "decision_tree_classifier = DecisionTreeClassifier(max_depth = 4, random_state = 1234)\n",
    "decision_tree_classifier.fit(x_train, y_train)\n",
    "\n",
    "prediction_values_dt = decision_tree_classifier.predict(x_test)\n",
    "print(metrics.classification_report(y_test, prediction_values_dt, digits = 2))\n",
    "print(metrics.confusion_matrix(y_test, prediction_values_dt))\n"
   ]
  },
  {
   "cell_type": "code",
   "execution_count": 13,
   "id": "07ef59b8",
   "metadata": {},
   "outputs": [
    {
     "name": "stdout",
     "output_type": "stream",
     "text": [
      "              precision    recall  f1-score   support\n",
      "\n",
      "           0       0.82      0.91      0.86      3181\n",
      "           1       0.37      0.20      0.26       819\n",
      "\n",
      "    accuracy                           0.76      4000\n",
      "   macro avg       0.59      0.56      0.56      4000\n",
      "weighted avg       0.72      0.76      0.74      4000\n",
      "\n"
     ]
    }
   ],
   "source": [
    "# Initialize XGBoost Model\n",
    "xgboost_classifier = XGBClassifier(n_estimators = 5000, max_depth = 4, random_state = 1234, learning_rate = 0.3)\n",
    "xgboost_classifier.fit(x_train, y_train)\n",
    "\n",
    "# Predict label for the test data and print classification report and confusion matrix\n",
    "prediction_values_xgboost = xgboost_classifier.predict(x_test)\n",
    "print(metrics.classification_report(y_test, prediction_values_xgboost, digits = 2))"
   ]
  },
  {
   "cell_type": "code",
   "execution_count": null,
   "id": "23fbc92f",
   "metadata": {},
   "outputs": [],
   "source": []
  }
 ],
 "metadata": {
  "kernelspec": {
   "display_name": "Python 3 (ipykernel)",
   "language": "python",
   "name": "python3"
  },
  "language_info": {
   "codemirror_mode": {
    "name": "ipython",
    "version": 3
   },
   "file_extension": ".py",
   "mimetype": "text/x-python",
   "name": "python",
   "nbconvert_exporter": "python",
   "pygments_lexer": "ipython3",
   "version": "3.9.7"
  }
 },
 "nbformat": 4,
 "nbformat_minor": 5
}
